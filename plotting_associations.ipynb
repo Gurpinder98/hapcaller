{
 "cells": [
  {
   "cell_type": "code",
   "execution_count": 22,
   "id": "bef0c7c4",
   "metadata": {},
   "outputs": [],
   "source": [
    "import pandas as pd\n",
    "import matplotlib.pyplot as plt"
   ]
  },
  {
   "cell_type": "code",
   "execution_count": 3,
   "id": "ac362e99",
   "metadata": {},
   "outputs": [
    {
     "name": "stdout",
     "output_type": "stream",
     "text": [
      "/Users/sidhug/Desktop/Haplotype_project\n"
     ]
    }
   ],
   "source": [
    "cd .."
   ]
  },
  {
   "cell_type": "code",
   "execution_count": 4,
   "id": "7a567eb1",
   "metadata": {},
   "outputs": [],
   "source": [
    "discrete_clusters = pd.read_csv(\"misc/cut_dendrograms.csv\")"
   ]
  },
  {
   "cell_type": "code",
   "execution_count": 10,
   "id": "ddc1fdc7",
   "metadata": {},
   "outputs": [],
   "source": [
    "phenotype = {}\n",
    "with open(\"misc/phenotype\") as in_f:\n",
    "    for line in in_f:\n",
    "        line = line.replace(\"\\n\", '')\n",
    "        name = line.split()[0]\n",
    "        try:\n",
    "            val = float(line.split()[1])\n",
    "            phenotype[name] = val\n",
    "        except:\n",
    "            Trait = line.split()[1]"
   ]
  },
  {
   "cell_type": "code",
   "execution_count": 25,
   "id": "17da7046",
   "metadata": {},
   "outputs": [],
   "source": [
    "phenotype = pd.read_csv(\"misc/phenotype.csv\")"
   ]
  },
  {
   "cell_type": "code",
   "execution_count": 28,
   "id": "60a383b9",
   "metadata": {},
   "outputs": [
    {
     "data": {
      "text/plain": [
       "<matplotlib.collections.PathCollection at 0x134d33910>"
      ]
     },
     "execution_count": 28,
     "metadata": {},
     "output_type": "execute_result"
    },
    {
     "data": {
      "image/png": "[encoded data removed]",
      "text/plain": [
       "<Figure size 432x288 with 1 Axes>"
      ]
     },
     "metadata": {
      "needs_background": "light"
     },
     "output_type": "display_data"
    }
   ],
   "source": [
    "plt.scatter(list(phenotype['BnaA10g22080D.1']), list(phenotype['ovary_length_adj']))"
   ]
  },
  {
   "cell_type": "code",
   "execution_count": 29,
   "id": "c92bdddd",
   "metadata": {},
   "outputs": [],
   "source": [
    "from scipy.stats import pearsonr"
   ]
  },
  {
   "cell_type": "code",
   "execution_count": 30,
   "id": "214c9450",
   "metadata": {},
   "outputs": [
    {
     "name": "stdout",
     "output_type": "stream",
     "text": [
      "0.3349903293274365\n"
     ]
    }
   ],
   "source": [
    "corr, _ = pearsonr(list(phenotype['BnaA10g22080D.1']), list(phenotype['ovary_length_adj']))\n",
    "print(corr)"
   ]
  },
  {
   "cell_type": "code",
   "execution_count": 31,
   "id": "3340f329",
   "metadata": {},
   "outputs": [
    {
     "name": "stdout",
     "output_type": "stream",
     "text": [
      "0.2864503654705716\n"
     ]
    }
   ],
   "source": [
    "corr, _ = pearsonr(list(phenotype['BnaA10g22080D']), list(phenotype['ovary_length_adj']))\n",
    "print(corr)"
   ]
  },
  {
   "cell_type": "code",
   "execution_count": 32,
   "id": "c873a822",
   "metadata": {},
   "outputs": [],
   "source": [
    "from scipy.stats import spearmanr"
   ]
  },
  {
   "cell_type": "code",
   "execution_count": 33,
   "id": "c13221c5",
   "metadata": {},
   "outputs": [
    {
     "name": "stdout",
     "output_type": "stream",
     "text": [
      "0.3019169342418358\n"
     ]
    }
   ],
   "source": [
    "corr, _ = spearmanr(list(phenotype['BnaA10g22080D.1']), list(phenotype['ovary_length_adj']))\n",
    "print(corr)"
   ]
  },
  {
   "cell_type": "code",
   "execution_count": null,
   "id": "b5145855",
   "metadata": {},
   "outputs": [],
   "source": []
  }
 ],
 "metadata": {
  "kernelspec": {
   "display_name": "Python 3 (ipykernel)",
   "language": "python",
   "name": "python3"
  },
  "language_info": {
   "codemirror_mode": {
    "name": "ipython",
    "version": 3
   },
   "file_extension": ".py",
   "mimetype": "text/x-python",
   "name": "python",
   "nbconvert_exporter": "python",
   "pygments_lexer": "ipython3",
   "version": "3.10.0"
  }
 },
 "nbformat": 4,
 "nbformat_minor": 5
}
