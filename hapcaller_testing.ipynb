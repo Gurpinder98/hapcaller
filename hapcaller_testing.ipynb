{
 "cells": [
  {
   "cell_type": "code",
   "execution_count": 1,
   "metadata": {},
   "outputs": [],
   "source": [
    "def gff_parse(gff_file, genes_to_look):\n",
    "    \"\"\"\n",
    "    Reads GFF file and returns a dictionary of following structure:\n",
    "    {\n",
    "        Super_contig: {\n",
    "            Gene : (Start_position, stop position)\n",
    "            ..\n",
    "        }\n",
    "        ..\n",
    "    }\n",
    "    \"\"\"\n",
    "    Genes = {}\n",
    "    with open(gff_file, \"r\") as in_f:\n",
    "        for line in in_f:\n",
    "            line = line.rstrip('\\n')\n",
    "            if line.startswith('#') != True:\n",
    "                contig = line.split('\\t')[0]\n",
    "                locus_type = line.split('\\t')[2]\n",
    "                if locus_type ==  'gene':\n",
    "                    gene_name = line.split(\"\\t\")[8].split(\";\")[1].lstrip('Name=')\n",
    "                    if gene_name in genes_to_look:\n",
    "                        if contig not in Genes.keys():\n",
    "                            Genes[contig] = {}\n",
    "                        (start_pos, stop_pos) = (line.split(\"\\t\")[3], line.split(\"\\t\")[4])\n",
    "                        Genes[contig][gene_name] = (start_pos, stop_pos)    \n",
    "    return Genes"
   ]
  },
  {
   "cell_type": "code",
   "execution_count": 2,
   "metadata": {},
   "outputs": [
    {
     "name": "stdout",
     "output_type": "stream",
     "text": [
      "/Users/sidhug/Desktop/Haplotype_project\n"
     ]
    }
   ],
   "source": [
    "cd .."
   ]
  },
  {
   "cell_type": "code",
   "execution_count": 3,
   "metadata": {},
   "outputs": [
    {
     "data": {
      "text/plain": [
       "{'LK031823': {'BnaC03g04170D': ('2000958', '2004565')}}"
      ]
     },
     "execution_count": 3,
     "metadata": {},
     "output_type": "execute_result"
    }
   ],
   "source": [
    "gff_parse(\"large_datasets/Brassica_napus.AST_PRJEB5043_v1.44.sorted.gff3\", ['BnaC03g04170D'])"
   ]
  },
  {
   "cell_type": "code",
   "execution_count": null,
   "metadata": {},
   "outputs": [],
   "source": []
  }
 ],
 "metadata": {
  "interpreter": {
   "hash": "c7fa6e65c4f227d77882d4bcc641a942485d93f6372413baaff8defdf53a058c"
  },
  "kernelspec": {
   "display_name": "Python 3.10.0 64-bit ('main': conda)",
   "language": "python",
   "name": "python3"
  },
  "language_info": {
   "codemirror_mode": {
    "name": "ipython",
    "version": 3
   },
   "file_extension": ".py",
   "mimetype": "text/x-python",
   "name": "python",
   "nbconvert_exporter": "python",
   "pygments_lexer": "ipython3",
   "version": "3.10.0"
  },
  "orig_nbformat": 4
 },
 "nbformat": 4,
 "nbformat_minor": 2
}
